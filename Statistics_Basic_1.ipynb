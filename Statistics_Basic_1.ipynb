{
  "nbformat": 4,
  "nbformat_minor": 0,
  "metadata": {
    "colab": {
      "provenance": []
    },
    "kernelspec": {
      "name": "python3",
      "display_name": "Python 3"
    },
    "language_info": {
      "name": "python"
    }
  },
  "cells": [
    {
      "cell_type": "markdown",
      "source": [
        "1. What is statistics, and why is it important."
      ],
      "metadata": {
        "id": "wLTJ77fnW5OU"
      }
    },
    {
      "cell_type": "markdown",
      "source": [
        "- Statistics is the science of collecting, analyzing, interpreting, presenting, and organizing data. It helps us make sense of the world by turning raw numbers into meaningful insights.\n",
        "-  Why is Statistics Important?\n",
        "\n",
        "- Informed Decision-Making: Whether it's a business forecasting sales or a government planning healthcare, statistics helps make data-driven decisions.\n",
        "- Understanding Trends: It reveals patterns in data—like consumer behavior, climate change, or disease outbreaks.\n",
        "- Prediction and Forecasting: From weather predictions to stock market trends, statistical models help forecast future outcomes.\n"
      ],
      "metadata": {
        "id": "negV0i-KXJKL"
      }
    },
    {
      "cell_type": "markdown",
      "source": [
        "2. What are the two main types of statistics."
      ],
      "metadata": {
        "id": "XndR94ecXcjP"
      }
    },
    {
      "cell_type": "markdown",
      "source": [
        "1. Descriptive Statistics\n",
        "This type focuses on summarizing and organizing data so it’s easier to understand. It includes:\n",
        "- Measures of central tendency: mean, median, mode\n",
        "- Measures of dispersion: range, variance, standard deviation\n",
        "- Data visualization: charts, graphs, tables\n",
        "Think of it as painting a clear picture of what the data looks like without making predictions or generalizations.\n",
        "2. Inferential Statistics\n",
        "This type goes a step further—it helps you draw conclusions or make predictions about a population based on a sample. It includes:\n",
        "- Hypothesis testing\n",
        "- Confidence intervals\n",
        "- Regression analysis\n",
        "- Probability distributions\n"
      ],
      "metadata": {
        "id": "uYqackyDXiUf"
      }
    },
    {
      "cell_type": "markdown",
      "source": [
        "3. What are descriptive statistics."
      ],
      "metadata": {
        "id": "lKMN9FOMXzqg"
      }
    },
    {
      "cell_type": "markdown",
      "source": [
        "Descriptive statistics are tools used to summarize and describe the main features of a dataset. Instead of analyzing every individual data point, they help you get a quick, meaningful overview of the data’s shape, center, and spread.\n",
        "\n",
        "- Measures of Central Tendency – Tell you where the center of the data lies:\n",
        "- Mean: The average\n",
        "- Median: The middle value\n",
        "- Mode: The most frequent value\n",
        "- Measures of Dispersion (or Spread) – Show how spread out the data is:\n",
        "- Range: Difference between the highest and lowest values\n",
        "- Variance: How much the data varies from the mean\n"
      ],
      "metadata": {
        "id": "lgg68xHFYq0W"
      }
    },
    {
      "cell_type": "markdown",
      "source": [
        "4. What is inferential statistics."
      ],
      "metadata": {
        "id": "gSkjqiGBZCwi"
      }
    },
    {
      "cell_type": "markdown",
      "source": [
        "- Inferential statistics is the branch of statistics that lets you draw conclusions about a population based on a sample. Instead of analyzing every single data point in a population (which is often impossible), you study a smaller group and use probability theory to make educated guesses about the larger group.\n"
      ],
      "metadata": {
        "id": "SxAADg7DZJ4e"
      }
    },
    {
      "cell_type": "markdown",
      "source": [
        "5. What is sampling in statistics."
      ],
      "metadata": {
        "id": "QJT3BQa7ZXRB"
      }
    },
    {
      "cell_type": "markdown",
      "source": [
        "- Sampling in statistics is the process of selecting a subset of individuals or observations from a larger population to analyze and draw conclusions about the whole group.\n",
        "\n",
        "- Efficiency: Studying an entire population is often expensive, time-consuming, or impossible.\n",
        "- Accuracy: A well-chosen sample can provide reliable insights with minimal bias.\n",
        "- Scalability: Sampling allows researchers to test hypotheses and make predictions without needing every data point.\n"
      ],
      "metadata": {
        "id": "CMmACsQNZc3G"
      }
    },
    {
      "cell_type": "markdown",
      "source": [
        "6. What are the different types of sampling methods."
      ],
      "metadata": {
        "id": "XBuegef5Zxtf"
      }
    },
    {
      "cell_type": "markdown",
      "source": [
        "- Sampling methods fall into two major categories—probability sampling and non-probability sampling—each with its own techniques depending on the research goal and data availability.\n",
        "\n",
        "-  Probability Sampling\n",
        "Every member of the population has a known, non-zero chance of being selected. This makes it ideal for statistical inference.\n",
        "- Simple Random Sampling: Every individual has an equal chance of being chosen. Like drawing names from a hat.\n",
        "- Stratified Sampling: The population is divided into subgroups (strata), and random samples are taken from each. Useful when you want representation across key categories (e.g., gender, age).\n",
        "- Systematic Sampling: You select every kth individual from a list after a random starting point.\n",
        "- Cluster Sampling: The population is divided into clusters (often geographically), and entire clusters are randomly selected.\n",
        "\n",
        "-  Non-Probability Sampling\n",
        "Not every individual has a known or equal chance of being selected. Often used in exploratory research or when random sampling isn’t feasible.\n",
        "- Convenience Sampling: You sample whoever is easiest to reach (e.g., surveying people at a café).\n",
        "- Purposive (Judgmental) Sampling: You select individuals based on specific characteristics or expertise.\n",
        "- Snowball Sampling: Existing participants recruit others—common in studies of hard-to-reach populations.\n",
        "- Quota Sampling: You ensure certain characteristics are represented, but selection within those groups isn’t random.\n"
      ],
      "metadata": {
        "id": "bWeH5U4jZ4s0"
      }
    },
    {
      "cell_type": "markdown",
      "source": [
        "7. What is the difference between random and non-random sampling."
      ],
      "metadata": {
        "id": "Eguk4nEhaKlm"
      }
    },
    {
      "cell_type": "markdown",
      "source": [
        "Random Sampling\n",
        "- Selection is based on chance: Every individual in the population has a known and equal probability of being chosen.\n",
        "- Minimizes bias: Because selection is random, the sample tends to be more representative of the population.\n",
        "- Examples: Simple random sampling, stratified sampling, cluster sampling.\n",
        "- Use case: Ideal for statistical inference and generalizing results to the whole population.\n",
        "\n",
        "   Non-Random Sampling\n",
        "- Selection is based on judgment or convenience: Not every individual has a known or equal chance of being selected.\n",
        "- Higher risk of bias: The sample may overrepresent or underrepresent certain groups.\n",
        "- Examples: Convenience sampling, purposive sampling, snowball sampling.\n",
        "- Use case: Often used in exploratory research or when random sampling isn’t feasible.\n"
      ],
      "metadata": {
        "id": "FjPQ_1ikaRlt"
      }
    },
    {
      "cell_type": "markdown",
      "source": [
        "8. Define and give examples of qualitative and quantitative data."
      ],
      "metadata": {
        "id": "XLYunq_Nah9t"
      }
    },
    {
      "cell_type": "markdown",
      "source": [
        "Qualitative Data\n",
        "This type of data is descriptive and non-numerical. It captures qualities, characteristics, or categories.\n",
        "- Nature: Categorical, subjective\n",
        "- Format: Words, labels, or symbols\n",
        "- Examples:\n",
        "- Eye color (e.g., brown, blue, green)\n",
        "- Customer feedback (e.g., “excellent service”)\n",
        "- Types of cuisine (e.g., Italian, Chinese, Indian)\n",
        "- Gender, marital status, or blood type\n",
        "\n",
        " Quantitative Data\n",
        "This is numerical data that can be measured or counted. It answers questions like “how much,” “how many,” or “how often.”\n",
        "- Nature: Numerical, objective\n",
        "- Format: Numbers, counts, or measurements\n",
        "- Examples:\n",
        "- Age (e.g., 25 years)\n",
        "- Height (e.g., 170 cm)\n",
        "- Number of passengers on the Titanic\n",
        "- Temperature, income, or test scores\n",
        "\n",
        "\n"
      ],
      "metadata": {
        "id": "3liH2DuxarZ3"
      }
    },
    {
      "cell_type": "markdown",
      "source": [
        "9. What are the different types of data in statistics."
      ],
      "metadata": {
        "id": "OJDgPt0Sa7my"
      }
    },
    {
      "cell_type": "markdown",
      "source": [
        "-  Quantitative Data (Numerical)\n",
        "This type deals with numbers and measurable quantities.\n",
        "- Discrete Data: Countable values (e.g., number of passengers, goals scored)\n",
        "- Continuous Data: Measurable values that can take any value within a range (e.g., height, fare, temperature)\n",
        "\n",
        " Qualitative Data (Categorical)\n",
        "This type describes qualities or characteristics.\n",
        "- Nominal Data: Categories without any order (e.g., gender, blood type, cabin class)\n",
        "- Ordinal Data: Categories with a meaningful order, but no consistent difference between them (e.g., satisfaction levels: poor, fair, good, excellent)\n"
      ],
      "metadata": {
        "id": "qOhw2HxIbEMk"
      }
    },
    {
      "cell_type": "markdown",
      "source": [
        "10. Explain nominal, ordinal, interval, and ratio levels of measurement."
      ],
      "metadata": {
        "id": "iuGRW5O5bgWg"
      }
    },
    {
      "cell_type": "markdown",
      "source": [
        " - Nominal Scale\n",
        "- What it is: Labels or categories with no inherent order.\n",
        "- Examples: Gender (male, female), blood type (A, B, AB, O), city names.\n",
        "- Key trait: You can count how many fall into each category, but you can’t rank them.\n",
        "\n",
        " Ordinal Scale\n",
        "- What it is: Categories that have a meaningful order, but the intervals between them aren’t equal or known.\n",
        "- Examples: Customer satisfaction (satisfied, neutral, dissatisfied), education level (high school, college, graduate).\n",
        "- Key trait: You can rank the data, but you can’t measure the exact difference between ranks.\n",
        "\n",
        " Interval Scale\n",
        "- What it is: Numeric data with equal intervals between values, but no true zero point.\n",
        "- Examples: Temperature in Celsius or Fahrenheit, IQ scores.\n",
        "- Key trait: You can add and subtract values, but ratios (like “twice as hot”) don’t make sense.\n",
        "\n",
        " Ratio Scale\n",
        "- What it is: Like interval data, but with a meaningful zero point—so ratios are valid.\n",
        "- Examples: Age, height, weight, income, number of passengers.\n",
        "- Key trait: You can do all arithmetic operations, including multiplication and division.\n"
      ],
      "metadata": {
        "id": "b0BCun80boBc"
      }
    },
    {
      "cell_type": "markdown",
      "source": [
        "11. What is the measure of central tendency."
      ],
      "metadata": {
        "id": "LwfbsvOLcDOA"
      }
    },
    {
      "cell_type": "markdown",
      "source": [
        "- A measure of central tendency is a single value that aims to describe the center or typical value of a dataset. It gives you a quick sense of where most data points lie—like the “average” performance, behavior, or outcome.\n",
        "\n",
        "-  The Three Main Measures\n",
        "- Mean\n",
        "- The arithmetic average: add all values and divide by the number of values.\n",
        "- Example: For scores 70, 80, 90 → Mean = (70 + 80 + 90) / 3 = 80\n",
        "- Median\n",
        "- The middle value when data is ordered.\n",
        "- Example: For 10, 20, 30 → Median = 20\n",
        "For 10, 20, 30, 40 → Median = (20 + 30)/2 = 25\n",
        "- Mode\n",
        "- The most frequently occurring value(s).\n",
        "- Example: In [2, 3, 3, 5, 7], the mode is 3\n"
      ],
      "metadata": {
        "id": "1_h0zf1KcKY7"
      }
    },
    {
      "cell_type": "markdown",
      "source": [
        "12. Define mean, median, and mode."
      ],
      "metadata": {
        "id": "q-BvF1LkcjLU"
      }
    },
    {
      "cell_type": "markdown",
      "source": [
        "- Mean (Arithmetic Average)\n",
        "The mean is the sum of all values divided by the number of values.\n",
        "- Formula:\n",
        "\\text{Mean} = \\frac{\\sum x_i}{n}- Example: For the numbers 5, 10, 15 → Mean = (5 + 10 + 15) / 3 = 10\n",
        "- Use case: Best when data is evenly distributed without extreme outliers.\n",
        "\n",
        " Median (Middle Value)\n",
        "The median is the middle value when the data is arranged in order.\n",
        "- Example:\n",
        "- For [3, 7, 9] → Median = 7\n",
        "- For [3, 7, 9, 11] → Median = (7 + 9)/2 = 8\n",
        "- Use case: Ideal when data is skewed or contains outliers.\n",
        "\n",
        " Mode (Most Frequent Value)\n",
        "The mode is the value that appears most often in the dataset.\n",
        "- Example: In [2, 4, 4, 6, 8], the mode is 4\n",
        "- Use case: Useful for identifying the most common category or value, especially in qualitative data.\n"
      ],
      "metadata": {
        "id": "FjRXpCh8drmQ"
      }
    },
    {
      "cell_type": "markdown",
      "source": [
        "13. What is the significance of the measure of central tendency."
      ],
      "metadata": {
        "id": "f5U__S9KebeQ"
      }
    },
    {
      "cell_type": "markdown",
      "source": [
        "- The measure of central tendency is significant because it gives you a single, representative value that summarizes an entire dataset. It’s like capturing the “heartbeat” of your data—helping you understand what’s typical or expected.\n",
        "\n",
        "\n",
        "- Simplifies Complex Data: Instead of analyzing hundreds of values, you can focus on one number that reflects the overall trend.\n",
        "- Enables Comparison: You can compare different groups or time periods using their means, medians, or modes.\n",
        "- Supports Decision-Making: Whether you're setting prices, evaluating performance, or analyzing survey results, central tendency helps guide informed choices.\n",
        "- Foundation for Further Analysis: It’s the starting point for deeper statistical techniques like standard deviation, correlation, and regression.\n"
      ],
      "metadata": {
        "id": "2q2AAAIrehjo"
      }
    },
    {
      "cell_type": "markdown",
      "source": [
        "14. What is variance, and how is it calculated."
      ],
      "metadata": {
        "id": "16AjfHawetyQ"
      }
    },
    {
      "cell_type": "markdown",
      "source": [
        "Variance is a statistical measure that tells you how spread out the values in a dataset are around the mean. It gives you a sense of whether the data points are tightly clustered or widely scattered.\n",
        "\n",
        "\n",
        "- A low variance means most values are close to the mean.\n",
        "- A high variance means values are more spread out.\n",
        "- It’s foundational for other concepts like standard deviation, regression, and hypothesis testing.\n",
        "\n",
        "\n",
        "There are two main formulas, depending on whether you're working with a population or a sample:\n",
        "1. Population Variance (σ²)\n",
        "\\sigma^2 = \\frac{1}{N} \\sum_{i=1}^{N} (x_i - \\mu)^2\n",
        "Where:\n",
        "- x_i = each data point\n",
        "- \\mu = population mean\n",
        "- N = number of data points\n",
        "2. Sample Variance (s²)\n",
        "s^2 = \\frac{1}{n - 1} \\sum_{i=1}^{n} (x_i - \\bar{x})^2\n",
        "Where:\n",
        "- \\bar{x} = sample mean\n",
        "- n = sample size\n",
        "The key difference is that sample variance divides by n - 1 instead of n to correct for bias—this is called Bessel’s correction.\n",
        "\n",
        "\n",
        " Example\n",
        "Let’s say your dataset is: [4, 8, 6]\n",
        "- Mean = (4 + 8 + 6) / 3 = 6\n",
        "- Squared deviations = (4−6)² + (8−6)² + (6−6)² = 4 + 4 + 0 = 8\n",
        "- Population variance = 8 / 3 ≈ 2.67\n",
        "- Sample variance = 8 / (3−1) = 4\n",
        "\n",
        "\n"
      ],
      "metadata": {
        "id": "e_8fLTXzezNX"
      }
    },
    {
      "cell_type": "markdown",
      "source": [
        "15. What is standard deviation, and why is it important."
      ],
      "metadata": {
        "id": "MLKy7BknfREQ"
      }
    },
    {
      "cell_type": "markdown",
      "source": [
        "- Standard deviation is a measure of how spread out or dispersed the values in a dataset are around the mean (average). It tells you how much the individual data points typically differ from the mean.\n",
        "\n",
        "\n",
        "- A low standard deviation means the data points are close to the mean—your dataset is consistent.\n",
        "- A high standard deviation means the data points are more spread out—there’s more variability.\n",
        "For example, if two companies both have an average salary of ₹50,000:\n",
        "- Company A has a standard deviation of ₹2,000 → most employees earn close to ₹50,000.\n",
        "- Company B has a standard deviation of ₹15,000 → salaries vary widely; some earn much more or much less.\n",
        "\n",
        "\n",
        "- Measures consistency: Helps you understand how reliable or stable your data is.\n",
        "- Identifies outliers: Large deviations from the mean can signal unusual or extreme values.\n",
        "- Supports comparison: You can compare variability across different datasets, even if their means are the same.\n",
        "- Essential for modeling: Many statistical models (like regression or hypothesis testing) rely on standard deviation to assess accuracy and risk.\n"
      ],
      "metadata": {
        "id": "kr-ydoEzfXRS"
      }
    },
    {
      "cell_type": "markdown",
      "source": [
        "16. Define and explain the term range in statistics."
      ],
      "metadata": {
        "id": "QXal7BkZft6l"
      }
    },
    {
      "cell_type": "markdown",
      "source": [
        "- In statistics, the range is the simplest measure of dispersion—it tells you how spread out the values in a dataset are by calculating the difference between the highest and lowest values.\n",
        "\n",
        "-  Definition\n",
        "The range is defined as:\n",
        "\\text{Range} = \\text{Maximum Value} - \\text{Minimum Value}\n",
        "It gives a quick snapshot of the spread or variability in your data.\n",
        "\n",
        "-  Example\n",
        "Let’s say you have the following exam scores:\n",
        "64, 77, 78, 82, 89, 92, 95\n",
        "- Maximum = 95\n",
        "- Minimum = 64\n",
        "- Range = 95 − 64 = 31\n",
        "So, the scores span a range of 31 points.\n"
      ],
      "metadata": {
        "id": "XK2ff4sCfzp3"
      }
    },
    {
      "cell_type": "markdown",
      "source": [
        "17. What is the difference between variance and standard deviation."
      ],
      "metadata": {
        "id": "yz0Rdio1gC8r"
      }
    },
    {
      "cell_type": "markdown",
      "source": [
        "- Variance and standard deviation both measure how spread out data is, but they do it in slightly different ways—and each has its own strengths depending on what you're analyzing.\n",
        "\n",
        "-  Variance\n",
        "- Definition: The average of the squared differences from the mean.\n",
        "- Formula (for a sample):\n",
        "s^2 = \\frac{1}{n - 1} \\sum (x_i - \\bar{x})^2- Units: Squared units of the original data (e.g., if data is in rupees, variance is in rupees²).\n",
        "- Use case: Helpful in mathematical modeling and when comparing variability across datasets.\n",
        "\n",
        "-  Standard Deviation\n",
        "- Definition: The square root of the variance.\n",
        "- Formula (for a sample):\n",
        "s = \\sqrt{\\frac{1}{n - 1} \\sum (x_i - \\bar{x})^2}- Units: Same as the original data (e.g., rupees), making it easier to interpret.\n",
        "- Use case: Preferred when you want to understand variability in the same scale as your data.\n"
      ],
      "metadata": {
        "id": "RpZrz0AIgKPB"
      }
    },
    {
      "cell_type": "markdown",
      "source": [
        "18. What is skewness in a dataset."
      ],
      "metadata": {
        "id": "Yct_KXnCgXBI"
      }
    },
    {
      "cell_type": "markdown",
      "source": [
        "- Skewness is a statistical measure that describes the asymmetry of a dataset’s distribution around its mean. In simple terms, it tells you whether the data leans more to the left or the right—like a seesaw that’s not quite balanced.\n"
      ],
      "metadata": {
        "id": "nFOMSU1SgfUv"
      }
    },
    {
      "cell_type": "markdown",
      "source": [
        "19. What does it mean if a dataset is positively or negatively skewed."
      ],
      "metadata": {
        "id": "JUMtQHSsgoKS"
      }
    },
    {
      "cell_type": "markdown",
      "source": [
        "- When a dataset is positively or negatively skewed, it means the data distribution is asymmetrical, with values stretching more to one side of the mean than the other. This affects how we interpret averages and variability.\n",
        "\n",
        "-  Positively Skewed (Right-Skewed)\n",
        "- The tail extends to the right (toward higher values).\n",
        "- Most data points are clustered on the left.\n",
        "- Mean > Median > Mode\n",
        "- Example: Income distribution—most people earn modest amounts, but a few earn extremely high salaries.\n",
        "\n",
        "-  Negatively Skewed (Left-Skewed)\n",
        "- The tail extends to the left (toward lower values).\n",
        "- Most data points are clustered on the right.\n",
        "- Mean < Median < Mode\n",
        "- Example: Age at retirement—most people retire around 60–65, but a few retire much earlier.\n",
        "\n",
        "\n"
      ],
      "metadata": {
        "id": "V2Nasx7bguob"
      }
    },
    {
      "cell_type": "markdown",
      "source": [
        "20. Define and explain kurtosis."
      ],
      "metadata": {
        "id": "L64_RbFMg6bL"
      }
    },
    {
      "cell_type": "markdown",
      "source": [
        "- Kurtosis is a statistical measure that describes the \"tailedness\" of a distribution—that is, how heavily the tails of the distribution differ from the tails of a normal distribution.\n",
        "\n",
        "\n",
        "- How often extreme values (outliers) occur\n",
        "- Whether the data has heavy or light tails\n",
        "- How peaked or flat the distribution is compared to a normal curve\n",
        "\n",
        "\n",
        "\n",
        "\n",
        "\n"
      ],
      "metadata": {
        "id": "rtJ6NLLGhAlp"
      }
    },
    {
      "cell_type": "markdown",
      "source": [
        "21. What is the purpose of covariance."
      ],
      "metadata": {
        "id": "v8hfGby1hZCj"
      }
    },
    {
      "cell_type": "markdown",
      "source": [
        "- Covariance helps you understand how two variables change together—whether they tend to increase or decrease at the same time, or move in opposite directions.\n",
        "\n",
        "-  Purpose of Covariance\n",
        "- Direction of Relationship: Covariance tells you if two variables move in the same direction (positive covariance) or in opposite directions (negative covariance).\n",
        "- Example: If study time and test scores have positive covariance, more study time tends to mean higher scores.\n",
        "- Foundation for Correlation: Covariance is the building block of correlation. While covariance shows direction, correlation standardizes it to measure strength as well.\n",
        "- Insight into Variable Interaction: It’s used in finance, machine learning, and data analysis to understand how variables interact—like how stock prices move together or how features in a dataset relate.\n",
        "- Input for Advanced Models: Covariance is essential in constructing covariance matrices, which are used in multivariate statistics, principal component analysis (PCA), and portfolio optimization.\n",
        "\n",
        "\n"
      ],
      "metadata": {
        "id": "3VZ7iEEVhd_X"
      }
    },
    {
      "cell_type": "markdown",
      "source": [
        "22. What does correlation measure in statistics."
      ],
      "metadata": {
        "id": "nQZ51tSHhpuU"
      }
    },
    {
      "cell_type": "markdown",
      "source": [
        "- Correlation measures the strength and direction of a relationship between two variables. It tells you whether—and how strongly—changes in one variable are associated with changes in another.\n",
        "\n",
        "-  What Correlation Reveals\n",
        "- Positive correlation: As one variable increases, the other tends to increase too.\n",
        "Example: Study time and test scores.\n",
        "- Negative correlation: As one variable increases, the other tends to decrease.\n",
        "Example: Number of absences and exam performance.\n",
        "- Zero correlation: No consistent pattern or relationship between the variables.\n",
        "Example: Shoe size and intelligence.\n",
        "\n",
        "\n"
      ],
      "metadata": {
        "id": "teAdVZBshw-L"
      }
    },
    {
      "cell_type": "markdown",
      "source": [
        "23. What is the difference between covariance and correlation."
      ],
      "metadata": {
        "id": "2c62ozlwiAr8"
      }
    },
    {
      "cell_type": "markdown",
      "source": [
        "- Covariance and correlation both describe how two variables move in relation to each other—but they differ in scale, interpretability, and purpose.\n",
        "\n",
        "-  Covariance\n",
        "- What it tells you: Whether two variables move in the same or opposite direction.\n",
        "- Value range: From –∞ to +∞\n",
        "- Units: Depends on the units of the variables (e.g., cm·kg)\n",
        "- Interpretation:\n",
        "- Positive → variables increase together\n",
        "- Negative → one increases while the other decreases\n",
        "- Zero → no linear relationship\n",
        "- Limitation: Hard to interpret magnitude because it’s not standardized.\n",
        "\n",
        "-  Correlation\n",
        "- What it tells you: The strength and direction of a linear relationship.\n",
        "- Value range: Always between –1 and +1\n",
        "- Units: Unitless (standardized)\n",
        "- Interpretation:\n",
        "- +1 → perfect positive correlation\n",
        "- –1 → perfect negative correlation\n",
        "- 0 → no linear relationship\n",
        "- Advantage: Easy to compare across datasets and scales\n"
      ],
      "metadata": {
        "id": "VaWstAc0iF_t"
      }
    },
    {
      "cell_type": "markdown",
      "source": [
        "24. What are some real-world applications of statistics."
      ],
      "metadata": {
        "id": "XRPFtWCziQxg"
      }
    },
    {
      "cell_type": "markdown",
      "source": [
        "- Statistics is everywhere—it’s the quiet engine behind smart decisions, accurate predictions, and meaningful insights across nearly every field. Here are some real-world applications that show just how powerful it is:\n",
        "\n",
        "-  Healthcare\n",
        "- Clinical trials use statistics to test the effectiveness of new drugs.\n",
        "- Epidemiologists track disease outbreaks and model their spread using statistical tools.\n",
        "- Medical diagnostics rely on probability to assess risk factors and outcomes.\n",
        "\n",
        "-  Business & Marketing\n",
        "- Companies analyze customer behavior, sales trends, and market segmentation to optimize strategies.\n",
        "- A/B testing helps businesses decide which version of a product or ad performs better.\n",
        "- Inventory management uses statistical forecasting to avoid overstocking or shortages.\n",
        "\n",
        " -  Weather Forecasting\n",
        "- Meteorologists use probability models to predict rain, storms, and temperature changes.\n",
        "- Time series analysis helps forecast long-term climate patterns.\n",
        "\n",
        " - Finance & Investing\n",
        "- Risk assessment, portfolio optimization, and stock market analysis all rely on statistical models.\n",
        "- Actuaries use statistics to set insurance premiums and predict future claims.\n",
        "\n",
        "- Transportation & Urban Planning\n",
        "- Traffic engineers use statistics to optimize traffic flow and reduce congestion.\n",
        "- Public transport systems analyze ridership data to improve routes and schedules.\n",
        "\n",
        "-  Education\n",
        "- Schools and governments use statistics to evaluate student performance, curriculum effectiveness, and resource allocation.\n",
        "- Standardized test scores are analyzed to identify trends and gaps.\n"
      ],
      "metadata": {
        "id": "Jv0PjiyViWaV"
      }
    },
    {
      "cell_type": "markdown",
      "source": [
        "**Practical Questions**"
      ],
      "metadata": {
        "id": "7bkADcXoDUtZ"
      }
    },
    {
      "cell_type": "markdown",
      "source": [
        "1. How do you calculate the mean, median, and mode of a dataset?"
      ],
      "metadata": {
        "id": "XUzAvJ7mDbzU"
      }
    },
    {
      "cell_type": "code",
      "source": [
        "import statistics\n",
        "\n",
        "data = [4, 8, 6, 5, 3, 7, 8]\n",
        "\n",
        "# Mean\n",
        "mean_value = statistics.mean(data)\n",
        "\n",
        "# Median\n",
        "median_value = statistics.median(data)\n",
        "\n",
        "# Mode\n",
        "mode_value = statistics.mode(data)\n",
        "\n",
        "print(\"Mean:\", mean_value)\n",
        "print(\"Median:\", median_value)\n",
        "print(\"Mode:\", mode_value)"
      ],
      "metadata": {
        "colab": {
          "base_uri": "https://localhost:8080/"
        },
        "id": "fXTuc5Y8EK7O",
        "outputId": "9d181bac-eae3-4e2c-a0d2-3c1ef0f9d42e"
      },
      "execution_count": 1,
      "outputs": [
        {
          "output_type": "stream",
          "name": "stdout",
          "text": [
            "Mean: 5.857142857142857\n",
            "Median: 6\n",
            "Mode: 8\n"
          ]
        }
      ]
    },
    {
      "cell_type": "markdown",
      "source": [
        "2. Write a Python program to compute the variance and standard deviation of a dataset."
      ],
      "metadata": {
        "id": "ntJbtdyXESlU"
      }
    },
    {
      "cell_type": "code",
      "source": [
        "import statistics\n",
        "\n",
        "# Sample dataset\n",
        "data = [4, 8, 6, 5, 3, 7, 8]\n",
        "\n",
        "# Calculate variance and standard deviation\n",
        "variance = statistics.variance(data)\n",
        "stdev = statistics.stdev(data)\n",
        "\n",
        "print(\"Variance:\", variance)\n",
        "print(\"Standard Deviation:\", stdev)"
      ],
      "metadata": {
        "colab": {
          "base_uri": "https://localhost:8080/"
        },
        "id": "ZZ-533f5EYkm",
        "outputId": "28356118-0e8b-40f4-81ee-80eeda9081ad"
      },
      "execution_count": 2,
      "outputs": [
        {
          "output_type": "stream",
          "name": "stdout",
          "text": [
            "Variance: 3.8095238095238093\n",
            "Standard Deviation: 1.9518001458970664\n"
          ]
        }
      ]
    },
    {
      "cell_type": "markdown",
      "source": [
        "3. Create a dataset and classify it into nominal, ordinal, interval, and ratio types."
      ],
      "metadata": {
        "id": "o-3laRyDEsOg"
      }
    },
    {
      "cell_type": "code",
      "source": [
        "import pandas as pd\n",
        "\n",
        "# Creating the dataset\n",
        "data = {\n",
        "    'ID': [1, 2, 3, 4, 5],\n",
        "    'Name': ['Aditi', 'Rohan', 'Sneha', 'Raj', 'Priyanka'],\n",
        "    'Gender': ['Female', 'Male', 'Female', 'Male', 'Female'],\n",
        "    'Education_Level': ['Graduate', 'Postgraduate', 'Undergraduate', 'Graduate', 'Doctorate'],\n",
        "    'Satisfaction_Score': ['Satisfied', 'Very Satisfied', 'Neutral', 'Unsatisfied', 'Very Satisfied'],\n",
        "    'Temperature_C': [36, 37, 35, 34, 37],\n",
        "    'Age': [28, 35, 22, 31, 40],\n",
        "    'Monthly_Income': [55000, 72000, 41000, 63000, 88000]\n",
        "}\n",
        "\n",
        "df = pd.DataFrame(data)\n",
        "\n",
        "# Displaying the DataFrame\n",
        "print(df)"
      ],
      "metadata": {
        "colab": {
          "base_uri": "https://localhost:8080/"
        },
        "id": "FBRMAg96Ew_9",
        "outputId": "18c6f269-0d33-411f-bf99-0086695eec90"
      },
      "execution_count": 3,
      "outputs": [
        {
          "output_type": "stream",
          "name": "stdout",
          "text": [
            "   ID      Name  Gender Education_Level Satisfaction_Score  Temperature_C  \\\n",
            "0   1     Aditi  Female        Graduate          Satisfied             36   \n",
            "1   2     Rohan    Male    Postgraduate     Very Satisfied             37   \n",
            "2   3     Sneha  Female   Undergraduate            Neutral             35   \n",
            "3   4       Raj    Male        Graduate        Unsatisfied             34   \n",
            "4   5  Priyanka  Female       Doctorate     Very Satisfied             37   \n",
            "\n",
            "   Age  Monthly_Income  \n",
            "0   28           55000  \n",
            "1   35           72000  \n",
            "2   22           41000  \n",
            "3   31           63000  \n",
            "4   40           88000  \n"
          ]
        }
      ]
    },
    {
      "cell_type": "markdown",
      "source": [
        "4. Implement sampling techniques like random sampling and stratified sampling."
      ],
      "metadata": {
        "id": "8LnWxVS_Fd3m"
      }
    },
    {
      "cell_type": "code",
      "source": [
        "import pandas as pd\n",
        "\n",
        "# Sample dataset\n",
        "df = pd.DataFrame({\n",
        "    'ID': range(1, 101),\n",
        "    'Age': [20 + (i % 10) for i in range(100)],\n",
        "    'Gender': ['Male' if i % 2 == 0 else 'Female' for i in range(100)]\n",
        "})\n",
        "\n",
        "# Random sample of 10 rows\n",
        "random_sample = df.sample(n=10, random_state=42)\n",
        "\n",
        "print(\"Random Sample:\")\n",
        "print(random_sample)"
      ],
      "metadata": {
        "colab": {
          "base_uri": "https://localhost:8080/"
        },
        "id": "jFiRLWh2Fiy2",
        "outputId": "ec9581e7-6918-4408-e00f-baa7be17a652"
      },
      "execution_count": 4,
      "outputs": [
        {
          "output_type": "stream",
          "name": "stdout",
          "text": [
            "Random Sample:\n",
            "    ID  Age  Gender\n",
            "83  84   23  Female\n",
            "53  54   23  Female\n",
            "70  71   20    Male\n",
            "45  46   25  Female\n",
            "44  45   24    Male\n",
            "39  40   29  Female\n",
            "22  23   22    Male\n",
            "80  81   20    Male\n",
            "10  11   20    Male\n",
            "0    1   20    Male\n"
          ]
        }
      ]
    },
    {
      "cell_type": "markdown",
      "source": [
        " 2. Stratified Sampling\n",
        "\n"
      ],
      "metadata": {
        "id": "0WYQKmwDipex"
      }
    },
    {
      "cell_type": "code",
      "source": [
        "from sklearn.model_selection import train_test_split\n",
        "\n",
        "# Stratified sampling based on 'Gender'\n",
        "stratified_sample, _ = train_test_split(df,\n",
        "                                        test_size=0.9,\n",
        "                                        stratify=df['Gender'],\n",
        "                                        random_state=42)\n",
        "\n",
        "print(\"Stratified Sample:\")\n",
        "print(stratified_sample['Gender'].value_counts())"
      ],
      "metadata": {
        "colab": {
          "base_uri": "https://localhost:8080/"
        },
        "id": "p3zTJWrWFrds",
        "outputId": "23837b80-efae-4f9a-ef02-a7afa1a4dd01"
      },
      "execution_count": 5,
      "outputs": [
        {
          "output_type": "stream",
          "name": "stdout",
          "text": [
            "Stratified Sample:\n",
            "Gender\n",
            "Female    5\n",
            "Male      5\n",
            "Name: count, dtype: int64\n"
          ]
        }
      ]
    },
    {
      "cell_type": "markdown",
      "source": [
        "5. Write a Python function to calculate the range of a dataset."
      ],
      "metadata": {
        "id": "tbcYTRE4F6zA"
      }
    },
    {
      "cell_type": "code",
      "source": [
        "def calculate_range(data):\n",
        "    if not data:\n",
        "        return None\n",
        "    return max(data) - min(data)\n",
        "\n",
        "\n",
        "dataset = [10, 25, 7, 18, 32, 41, 5]\n",
        "range_value = calculate_range(dataset)\n",
        "\n",
        "print(\"Range of the dataset:\", range_value)"
      ],
      "metadata": {
        "colab": {
          "base_uri": "https://localhost:8080/"
        },
        "id": "Vmx411TxGCVF",
        "outputId": "68691b09-a555-4eb0-96a0-06f049e6d6bd"
      },
      "execution_count": 6,
      "outputs": [
        {
          "output_type": "stream",
          "name": "stdout",
          "text": [
            "Range of the dataset: 36\n"
          ]
        }
      ]
    },
    {
      "cell_type": "markdown",
      "source": [
        "6. Create a dataset and plot its histogram to visualize skewness."
      ],
      "metadata": {
        "id": "RpsWj8AfGOFV"
      }
    },
    {
      "cell_type": "code",
      "source": [
        "import numpy as np\n",
        "import pandas as pd\n",
        "import matplotlib.pyplot as plt\n",
        "import seaborn as sns\n",
        "\n",
        "# Generate a right-skewed dataset\n",
        "np.random.seed(42)\n",
        "data = np.random.exponential(scale=2, size=1000)\n",
        "\n",
        "# Convert to DataFrame\n",
        "df = pd.DataFrame(data, columns=['Value'])\n",
        "\n",
        "# Plot histogram\n",
        "plt.figure(figsize=(8, 5))\n",
        "sns.histplot(df['Value'], bins=30, kde=True, color='skyblue', edgecolor='black')\n",
        "\n",
        "plt.title('Histogram to Visualize Right Skewness')\n",
        "plt.xlabel('Value')\n",
        "plt.ylabel('Frequency')\n",
        "plt.grid(True)\n",
        "plt.tight_layout()\n",
        "plt.show()"
      ],
      "metadata": {
        "colab": {
          "base_uri": "https://localhost:8080/",
          "height": 507
        },
        "id": "Fc_0H8LKGTw9",
        "outputId": "c0ef9e4a-8514-43e0-e03f-2632a596fa2f"
      },
      "execution_count": 7,
      "outputs": [
        {
          "output_type": "display_data",
          "data": {
            "text/plain": [
              "<Figure size 800x500 with 1 Axes>"
            ],
            "image/png": "[encoded data removed]"
          },
          "metadata": {}
        }
      ]
    },
    {
      "cell_type": "markdown",
      "source": [
        "7. Calculate skewness and kurtosis of a dataset using Python libraries."
      ],
      "metadata": {
        "id": "UI1yk0WdGjiG"
      }
    },
    {
      "cell_type": "code",
      "source": [
        "import numpy as np\n",
        "import pandas as pd\n",
        "from scipy.stats import skew, kurtosis\n",
        "\n",
        "# Create a dataset (e.g. normal distribution)\n",
        "np.random.seed(0)\n",
        "data = np.random.normal(loc=0, scale=1, size=1000)\n",
        "\n",
        "# Convert to DataFrame (optional but often useful)\n",
        "df = pd.DataFrame(data, columns=['Value'])\n",
        "\n",
        "# Calculate skewness and kurtosis\n",
        "skewness = skew(df['Value'])\n",
        "kurt = kurtosis(df['Value'])\n",
        "\n",
        "print(\"Skewness:\", skewness)\n",
        "print(\"Kurtosis:\", kurt)"
      ],
      "metadata": {
        "colab": {
          "base_uri": "https://localhost:8080/"
        },
        "id": "iLe64_HxGn-_",
        "outputId": "8cfb0f29-5c03-42d5-aa76-4b29d477f239"
      },
      "execution_count": 8,
      "outputs": [
        {
          "output_type": "stream",
          "name": "stdout",
          "text": [
            "Skewness: 0.03385895323565712\n",
            "Kurtosis: -0.0467663244783294\n"
          ]
        }
      ]
    },
    {
      "cell_type": "markdown",
      "source": [
        "8. Generate a dataset and demonstrate positive and negative skewness."
      ],
      "metadata": {
        "id": "q-vKEd2uHGLC"
      }
    },
    {
      "cell_type": "code",
      "source": [
        "import numpy as np\n",
        "import pandas as pd\n",
        "import matplotlib.pyplot as plt\n",
        "import seaborn as sns\n",
        "from scipy.stats import skew\n",
        "\n",
        "# Generate positively skewed data (e.g., exponential distribution)\n",
        "np.random.seed(0)\n",
        "positive_skew = np.random.exponential(scale=2, size=1000)\n",
        "\n",
        "# Generate negatively skewed data by flipping the positively skewed data\n",
        "negative_skew = -np.random.exponential(scale=2, size=1000)\n",
        "\n",
        "# Combine into a DataFrame for plotting\n",
        "df = pd.DataFrame({\n",
        "    'Positive Skew': positive_skew,\n",
        "    'Negative Skew': negative_skew\n",
        "})\n",
        "\n",
        "# Plot histograms side-by-side\n",
        "fig, axes = plt.subplots(1, 2, figsize=(14, 5))\n",
        "\n",
        "sns.histplot(df['Positive Skew'], bins=30, kde=True, ax=axes[0], color='skyblue')\n",
        "axes[0].set_title(f'Positive Skew (Skewness = {skew(positive_skew):.2f})')\n",
        "axes[0].set_xlabel('Value')\n",
        "\n",
        "sns.histplot(df['Negative Skew'], bins=30, kde=True, ax=axes[1], color='salmon')\n",
        "axes[1].set_title(f'Negative Skew (Skewness = {skew(negative_skew):.2f})')\n",
        "axes[1].set_xlabel('Value')\n",
        "\n",
        "plt.tight_layout()\n",
        "plt.show()"
      ],
      "metadata": {
        "colab": {
          "base_uri": "https://localhost:8080/",
          "height": 405
        },
        "id": "D6nEbG0cHNKl",
        "outputId": "4904dca9-f1e4-431e-e2a4-3569fde42ef0"
      },
      "execution_count": 9,
      "outputs": [
        {
          "output_type": "display_data",
          "data": {
            "text/plain": [
              "<Figure size 1400x500 with 2 Axes>"
            ],
            "image/png": "[encoded data removed]"
          },
          "metadata": {}
        }
      ]
    },
    {
      "cell_type": "markdown",
      "source": [
        "9. Write a Python script to calculate covariance between two datasets."
      ],
      "metadata": {
        "id": "cJzMCkElHaYJ"
      }
    },
    {
      "cell_type": "code",
      "source": [
        "import numpy as np\n",
        "\n",
        "# Example datasets\n",
        "x = np.array([10, 20, 30, 40, 50])\n",
        "y = np.array([12, 24, 33, 45, 60])\n",
        "\n",
        "# Calculate covariance matrix\n",
        "cov_matrix = np.cov(x, y, bias=False)\n",
        "\n",
        "# Extract covariance value\n",
        "cov_xy = cov_matrix[0, 1]\n",
        "\n",
        "print(\"Covariance between x and y:\", cov_xy)"
      ],
      "metadata": {
        "colab": {
          "base_uri": "https://localhost:8080/"
        },
        "id": "VuKoPPBHHfMH",
        "outputId": "a250ba54-e405-4c07-b9ec-f85d14eaef9c"
      },
      "execution_count": 10,
      "outputs": [
        {
          "output_type": "stream",
          "name": "stdout",
          "text": [
            "Covariance between x and y: 292.5\n"
          ]
        }
      ]
    },
    {
      "cell_type": "code",
      "source": [
        "def calculate_covariance(x, y):\n",
        "    if len(x) != len(y):\n",
        "        raise ValueError(\"Datasets must have the same length.\")\n",
        "\n",
        "    mean_x = sum(x) / len(x)\n",
        "    mean_y = sum(y) / len(y)\n",
        "\n",
        "    covariance = sum((x[i] - mean_x) * (y[i] - mean_y) for i in range(len(x))) / (len(x) - 1)\n",
        "    return covariance\n",
        "\n",
        "# Example usage\n",
        "x = [10, 20, 30, 40, 50]\n",
        "y = [12, 24, 33, 45, 60]\n",
        "\n",
        "print(\"Manual Covariance:\", calculate_covariance(x, y))"
      ],
      "metadata": {
        "colab": {
          "base_uri": "https://localhost:8080/"
        },
        "id": "qkHwWDb2HpUS",
        "outputId": "63094307-09cf-498a-cf5a-df4c273b487e"
      },
      "execution_count": 11,
      "outputs": [
        {
          "output_type": "stream",
          "name": "stdout",
          "text": [
            "Manual Covariance: 292.5\n"
          ]
        }
      ]
    },
    {
      "cell_type": "markdown",
      "source": [
        "10. Write a Python script to calculate the correlation coefficient between two datasets."
      ],
      "metadata": {
        "id": "F8NHv0lUHulo"
      }
    },
    {
      "cell_type": "code",
      "source": [
        "import numpy as np\n",
        "\n",
        "# Example datasets\n",
        "x = np.array([10, 20, 30, 40, 50])\n",
        "y = np.array([12, 24, 33, 45, 60])\n",
        "\n",
        "# Calculate the correlation matrix\n",
        "correlation_matrix = np.corrcoef(x, y)\n",
        "\n",
        "# Extract the correlation coefficient\n",
        "correlation_coefficient = correlation_matrix[0, 1]\n",
        "\n",
        "print(\"Correlation Coefficient (Pearson):\", correlation_coefficient)"
      ],
      "metadata": {
        "colab": {
          "base_uri": "https://localhost:8080/"
        },
        "id": "lxaQz1GLH1kP",
        "outputId": "9a66c5c7-58fc-4d90-bc44-81f20c2c804e"
      },
      "execution_count": 12,
      "outputs": [
        {
          "output_type": "stream",
          "name": "stdout",
          "text": [
            "Correlation Coefficient (Pearson): 0.9964034540998122\n"
          ]
        }
      ]
    },
    {
      "cell_type": "code",
      "source": [
        "from scipy.stats import pearsonr\n",
        "\n",
        "x = [10, 20, 30, 40, 50]\n",
        "y = [12, 24, 33, 45, 60]\n",
        "\n",
        "corr_coef, p_value = pearsonr(x, y)\n",
        "\n",
        "print(\"Correlation Coefficient:\", corr_coef)\n",
        "print(\"P-value:\", p_value)"
      ],
      "metadata": {
        "colab": {
          "base_uri": "https://localhost:8080/"
        },
        "id": "S02QmaYJH_x8",
        "outputId": "aef076f0-67d3-446b-e232-5ba5fecb616a"
      },
      "execution_count": 13,
      "outputs": [
        {
          "output_type": "stream",
          "name": "stdout",
          "text": [
            "Correlation Coefficient: 0.9964034540998122\n",
            "P-value: 0.0002587782882252117\n"
          ]
        }
      ]
    },
    {
      "cell_type": "markdown",
      "source": [
        "11. Create a scatter plot to visualize the relationship between two variables."
      ],
      "metadata": {
        "id": "OII7owNoIDS8"
      }
    },
    {
      "cell_type": "code",
      "source": [
        "import pandas as pd\n",
        "import matplotlib.pyplot as plt\n",
        "import seaborn as sns\n",
        "\n",
        "# Sample dataset\n",
        "data = {\n",
        "    'Age': [22, 25, 30, 35, 40, 45, 50, 55, 60, 65],\n",
        "    'Monthly_Income': [25000, 30000, 35000, 40000, 45000, 52000, 60000, 67000, 73000, 80000]\n",
        "}\n",
        "\n",
        "df = pd.DataFrame(data)\n",
        "\n",
        "# Create scatter plot\n",
        "plt.figure(figsize=(8, 5))\n",
        "sns.scatterplot(x='Age', y='Monthly_Income', data=df, color='teal', s=100)\n",
        "\n",
        "plt.title('Scatter Plot: Age vs. Monthly Income')\n",
        "plt.xlabel('Age')\n",
        "plt.ylabel('Monthly Income (INR)')\n",
        "plt.grid(True)\n",
        "plt.tight_layout()\n",
        "plt.show()"
      ],
      "metadata": {
        "colab": {
          "base_uri": "https://localhost:8080/",
          "height": 507
        },
        "id": "LfGRGYxdII5b",
        "outputId": "3bbd1c34-27f8-4671-c72d-24519c794317"
      },
      "execution_count": 14,
      "outputs": [
        {
          "output_type": "display_data",
          "data": {
            "text/plain": [
              "<Figure size 800x500 with 1 Axes>"
            ],
            "image/png": "[encoded data removed]"
          },
          "metadata": {}
        }
      ]
    },
    {
      "cell_type": "markdown",
      "source": [
        "12. Implement and compare simple random sampling and systematic sampling."
      ],
      "metadata": {
        "id": "cKGpk7aQIQiq"
      }
    },
    {
      "cell_type": "code",
      "source": [
        "import pandas as pd\n",
        "import numpy as np\n",
        "\n",
        "# Create a dummy dataset\n",
        "df = pd.DataFrame({\n",
        "    'ID': range(1, 101),\n",
        "    'Age': np.random.randint(18, 60, size=100)\n",
        "})\n",
        "\n",
        "print(df.head())"
      ],
      "metadata": {
        "colab": {
          "base_uri": "https://localhost:8080/"
        },
        "id": "iN5bo4DWIYUp",
        "outputId": "3c08de65-5a74-4f63-e927-b227b298af6a"
      },
      "execution_count": 15,
      "outputs": [
        {
          "output_type": "stream",
          "name": "stdout",
          "text": [
            "   ID  Age\n",
            "0   1   33\n",
            "1   2   39\n",
            "2   3   54\n",
            "3   4   30\n",
            "4   5   52\n"
          ]
        }
      ]
    },
    {
      "cell_type": "code",
      "source": [
        "# Simple Random Sample of 10 entries\n",
        "simple_random_sample = df.sample(n=10, random_state=1)\n",
        "\n",
        "print(\"Simple Random Sample:\")\n",
        "print(simple_random_sample)"
      ],
      "metadata": {
        "colab": {
          "base_uri": "https://localhost:8080/"
        },
        "id": "OqRmKgbkIjbC",
        "outputId": "9f01de87-09a7-405c-84c7-0d924f779394"
      },
      "execution_count": 16,
      "outputs": [
        {
          "output_type": "stream",
          "name": "stdout",
          "text": [
            "Simple Random Sample:\n",
            "    ID  Age\n",
            "80  81   26\n",
            "84  85   44\n",
            "33  34   53\n",
            "81  82   45\n",
            "93  94   38\n",
            "17  18   28\n",
            "36  37   23\n",
            "82  83   18\n",
            "69  70   39\n",
            "65  66   22\n"
          ]
        }
      ]
    },
    {
      "cell_type": "code",
      "source": [
        "def systematic_sampling(df, step):\n",
        "    indices = np.arange(0, len(df), step)\n",
        "    return df.iloc[indices]\n",
        "\n",
        "# Systematic sampling: every 10th person\n",
        "systematic_sample = systematic_sampling(df, step=10)\n",
        "\n",
        "print(\"Systematic Sample:\")\n",
        "print(systematic_sample)"
      ],
      "metadata": {
        "colab": {
          "base_uri": "https://localhost:8080/"
        },
        "id": "w57bikM4InrO",
        "outputId": "8622f160-8230-46d7-949b-3b7332859228"
      },
      "execution_count": 17,
      "outputs": [
        {
          "output_type": "stream",
          "name": "stdout",
          "text": [
            "Systematic Sample:\n",
            "    ID  Age\n",
            "0    1   33\n",
            "10  11   37\n",
            "20  21   34\n",
            "30  31   53\n",
            "40  41   58\n",
            "50  51   29\n",
            "60  61   35\n",
            "70  71   56\n",
            "80  81   26\n",
            "90  91   21\n"
          ]
        }
      ]
    },
    {
      "cell_type": "markdown",
      "source": [
        "13. Calculate the mean, median, and mode of grouped data."
      ],
      "metadata": {
        "id": "XjgJkqRZIrbi"
      }
    },
    {
      "cell_type": "code",
      "source": [
        "# Grouped data\n",
        "class_intervals = [(0,10), (10,20), (20,30), (30,40), (40,50)]\n",
        "frequencies = [5, 8, 15, 12, 5]\n",
        "\n",
        "# Midpoints for mean\n",
        "midpoints = [(start + end)/2 for start, end in class_intervals]\n",
        "fx = [f * x for f, x in zip(frequencies, midpoints)]\n",
        "mean = sum(fx) / sum(frequencies)\n",
        "\n",
        "# Total frequency\n",
        "N = sum(frequencies)\n",
        "\n",
        "# Cumulative frequencies for median\n",
        "cumulative_frequencies = []\n",
        "cum_sum = 0\n",
        "for f in frequencies:\n",
        "    cum_sum += f\n",
        "    cumulative_frequencies.append(cum_sum)\n",
        "\n",
        "# Find median class\n",
        "N_by_2 = N / 2\n",
        "for i, cum_freq in enumerate(cumulative_frequencies):\n",
        "    if cum_freq >= N_by_2:\n",
        "        median_class_index = i\n",
        "        break\n",
        "\n",
        "\n",
        "L = class_intervals[median_class_index][0]\n",
        "F = cumulative_frequencies[median_class_index - 1] if median_class_index != 0 else 0\n",
        "f = frequencies[median_class_index]\n",
        "h = class_intervals[median_class_index][1] - class_intervals[median_class_index][0]\n",
        "median = L + ((N/2 - F) / f) * h\n",
        "\n",
        "\n",
        "modal_class_index = frequencies.index(max(frequencies))\n",
        "L_modal = class_intervals[modal_class_index][0]\n",
        "f1 = frequencies[modal_class_index]\n",
        "f0 = frequencies[modal_class_index - 1] if modal_class_index != 0 else 0\n",
        "f2 = frequencies[modal_class_index + 1] if modal_class_index + 1 < len(frequencies) else 0\n",
        "h_modal = class_intervals[modal_class_index][1] - class_intervals[modal_class_index][0]\n",
        "\n",
        "mode = L_modal + ((f1 - f0) / (2*f1 - f0 - f2)) * h_modal\n",
        "\n",
        "\n",
        "print(f\"Mean: {mean:.2f}\")\n",
        "print(f\"Median: {median:.2f}\")\n",
        "print(f\"Mode: {mode:.2f}\")"
      ],
      "metadata": {
        "colab": {
          "base_uri": "https://localhost:8080/"
        },
        "id": "vF5jGiBwI0Cp",
        "outputId": "406cf0c6-c6b6-4a1f-d682-3a5ca270d026"
      },
      "execution_count": 18,
      "outputs": [
        {
          "output_type": "stream",
          "name": "stdout",
          "text": [
            "Mean: 25.89\n",
            "Median: 26.33\n",
            "Mode: 27.00\n"
          ]
        }
      ]
    },
    {
      "cell_type": "markdown",
      "source": [
        "14. Simulate data using Python and calculate its central tendency and dispersion."
      ],
      "metadata": {
        "id": "GbNqbFniJujR"
      }
    },
    {
      "cell_type": "code",
      "source": [
        "import numpy as np\n",
        "import pandas as pd\n",
        "from scipy.stats import mode\n",
        "\n",
        "# Simulate dataset: 1000 exam scores between 0 and 100 (normally distributed)\n",
        "np.random.seed(42)\n",
        "data = np.random.normal(loc=70, scale=10, size=1000)\n",
        "\n",
        "# Convert to DataFrame\n",
        "df = pd.DataFrame(data, columns=['Score'])\n",
        "\n",
        "# Central Tendency\n",
        "mean = df['Score'].mean()\n",
        "median = df['Score'].median()\n",
        "mode_value = mode(df['Score'], keepdims=True).mode[0]\n",
        "\n",
        "# Dispersion\n",
        "data_range = df['Score'].max() - df['Score'].min()\n",
        "variance = df['Score'].var()\n",
        "std_dev = df['Score'].std()\n",
        "\n",
        "# Display results\n",
        "print(f\"Mean: {mean:.2f}\")\n",
        "print(f\"Median: {median:.2f}\")\n",
        "print(f\"Mode: {mode_value:.2f}\")\n",
        "print(f\"Range: {data_range:.2f}\")\n",
        "print(f\"Variance: {variance:.2f}\")\n",
        "print(f\"Standard Deviation: {std_dev:.2f}\")"
      ],
      "metadata": {
        "colab": {
          "base_uri": "https://localhost:8080/"
        },
        "id": "NfPa0D9FJ0Lz",
        "outputId": "53eb23c8-9347-4a0b-ecd7-f28870b487c5"
      },
      "execution_count": 19,
      "outputs": [
        {
          "output_type": "stream",
          "name": "stdout",
          "text": [
            "Mean: 70.19\n",
            "Median: 70.25\n",
            "Mode: 37.59\n",
            "Range: 70.94\n",
            "Variance: 95.89\n",
            "Standard Deviation: 9.79\n"
          ]
        }
      ]
    },
    {
      "cell_type": "markdown",
      "source": [
        "15. Use NumPy or pandas to summarize a dataset’s descriptive statistics."
      ],
      "metadata": {
        "id": "NVdb86ufKBAp"
      }
    },
    {
      "cell_type": "code",
      "source": [
        "import pandas as pd\n",
        "import numpy as np\n",
        "\n",
        "# Create a sample dataset\n",
        "df = pd.DataFrame({\n",
        "    'Age': np.random.randint(18, 60, size=100),\n",
        "    'Income': np.random.normal(50000, 10000, size=100)\n",
        "})\n",
        "\n",
        "# Get descriptive statistics\n",
        "summary = df.describe()\n",
        "\n",
        "print(\"Descriptive Statistics:\\n\", summary)"
      ],
      "metadata": {
        "colab": {
          "base_uri": "https://localhost:8080/"
        },
        "id": "Qc9ErTepKGdb",
        "outputId": "f259b870-ca25-4c51-bc98-0bd5f988f62e"
      },
      "execution_count": 20,
      "outputs": [
        {
          "output_type": "stream",
          "name": "stdout",
          "text": [
            "Descriptive Statistics:\n",
            "               Age        Income\n",
            "count  100.000000    100.000000\n",
            "mean    39.030000  51077.934395\n",
            "std     12.533958  10559.393333\n",
            "min     19.000000  21037.446218\n",
            "25%     28.000000  45619.883289\n",
            "50%     38.000000  51379.976793\n",
            "75%     50.250000  58551.832393\n",
            "max     59.000000  74034.155852\n"
          ]
        }
      ]
    },
    {
      "cell_type": "markdown",
      "source": [
        "16. Plot a boxplot to understand the spread and identify outliers."
      ],
      "metadata": {
        "id": "wO5L_mvlKTzu"
      }
    },
    {
      "cell_type": "code",
      "source": [
        "import numpy as np\n",
        "import pandas as pd\n",
        "import seaborn as sns\n",
        "import matplotlib.pyplot as plt\n",
        "\n",
        "# Simulate some exam scores (with a few outliers)\n",
        "np.random.seed(42)\n",
        "scores = np.random.normal(loc=70, scale=10, size=100)\n",
        "scores = np.append(scores, [30, 120])  # Add some outliers\n",
        "\n",
        "# Create a DataFrame\n",
        "df = pd.DataFrame({'Exam_Score': scores})\n",
        "\n",
        "# Plot the boxplot\n",
        "plt.figure(figsize=(8, 5))\n",
        "sns.boxplot(x=df['Exam_Score'], color='lightblue')\n",
        "plt.title('Boxplot of Exam Scores')\n",
        "plt.xlabel('Score')\n",
        "plt.grid(True)\n",
        "plt.tight_layout()\n",
        "plt.show()"
      ],
      "metadata": {
        "colab": {
          "base_uri": "https://localhost:8080/",
          "height": 507
        },
        "id": "_S5xWEu5KbfQ",
        "outputId": "20803d8c-ad9d-44e1-ccc8-f5fccf92b6e6"
      },
      "execution_count": 21,
      "outputs": [
        {
          "output_type": "display_data",
          "data": {
            "text/plain": [
              "<Figure size 800x500 with 1 Axes>"
            ],
            "image/png": "[encoded data removed]"
          },
          "metadata": {}
        }
      ]
    },
    {
      "cell_type": "markdown",
      "source": [
        "17. Calculate the interquartile range (IQR) of a dataset."
      ],
      "metadata": {
        "id": "nSheCP3NKkbm"
      }
    },
    {
      "cell_type": "code",
      "source": [
        "import numpy as np\n",
        "\n",
        "# Sample dataset\n",
        "data = [10, 15, 20, 25, 30, 35, 40, 45, 50]\n",
        "\n",
        "# Calculate Q1 and Q3\n",
        "Q1 = np.percentile(data, 25)\n",
        "Q3 = np.percentile(data, 75)\n",
        "\n",
        "# Calculate IQR\n",
        "IQR = Q3 - Q1\n",
        "\n",
        "print(f\"Q1: {Q1}\")\n",
        "print(f\"Q3: {Q3}\")\n",
        "print(f\"IQR: {IQR}\")"
      ],
      "metadata": {
        "colab": {
          "base_uri": "https://localhost:8080/"
        },
        "id": "ftzs_F7TKqSQ",
        "outputId": "ee66028b-d352-47b5-ba1a-aa4f7988ec42"
      },
      "execution_count": 22,
      "outputs": [
        {
          "output_type": "stream",
          "name": "stdout",
          "text": [
            "Q1: 20.0\n",
            "Q3: 40.0\n",
            "IQR: 20.0\n"
          ]
        }
      ]
    },
    {
      "cell_type": "markdown",
      "source": [
        "18. Implement Z-score normalization and explain its significance."
      ],
      "metadata": {
        "id": "_KZvvcfGKzKC"
      }
    },
    {
      "cell_type": "code",
      "source": [
        "import numpy as np\n",
        "import pandas as pd\n",
        "\n",
        "# Sample data\n",
        "data = {'Math_Score': [70, 85, 60, 90, 100]}\n",
        "df = pd.DataFrame(data)\n",
        "\n",
        "# Z-score normalization\n",
        "df['Z_Score'] = (df['Math_Score'] - df['Math_Score'].mean()) / df['Math_Score'].std()\n",
        "\n",
        "print(df)"
      ],
      "metadata": {
        "colab": {
          "base_uri": "https://localhost:8080/"
        },
        "id": "BY72zAevK6O8",
        "outputId": "4fc06c81-1554-456f-cf1a-eb4cc9ec756f"
      },
      "execution_count": 23,
      "outputs": [
        {
          "output_type": "stream",
          "name": "stdout",
          "text": [
            "   Math_Score   Z_Score\n",
            "0          70 -0.688847\n",
            "1          85  0.250490\n",
            "2          60 -1.315071\n",
            "3          90  0.563602\n",
            "4         100  1.189826\n"
          ]
        }
      ]
    },
    {
      "cell_type": "markdown",
      "source": [
        "19. Compare two datasets using their standard deviations."
      ],
      "metadata": {
        "id": "IgTDZBzdLLM5"
      }
    },
    {
      "cell_type": "code",
      "source": [
        "import numpy as np\n",
        "\n",
        "# Dataset A: More consistent\n",
        "data_A = [50, 52, 48, 51, 49, 50, 51, 52, 50, 49]\n",
        "\n",
        "# Dataset B: More spread out\n",
        "data_B = [30, 70, 45, 80, 20, 55, 90, 25, 60, 85]\n",
        "\n",
        "# Calculate standard deviations\n",
        "std_A = np.std(data_A, ddof=1)  # Sample std dev\n",
        "std_B = np.std(data_B, ddof=1)\n",
        "\n",
        "print(f\"Standard Deviation of Dataset A: {std_A:.2f}\")\n",
        "print(f\"Standard Deviation of Dataset B: {std_B:.2f}\")"
      ],
      "metadata": {
        "colab": {
          "base_uri": "https://localhost:8080/"
        },
        "id": "wvhTG6ULLQ_4",
        "outputId": "615388f4-66b3-447c-e44f-12ea968021e5"
      },
      "execution_count": 24,
      "outputs": [
        {
          "output_type": "stream",
          "name": "stdout",
          "text": [
            "Standard Deviation of Dataset A: 1.32\n",
            "Standard Deviation of Dataset B: 25.47\n"
          ]
        }
      ]
    },
    {
      "cell_type": "markdown",
      "source": [
        "20. Write a Python program to visualize covariance using a heatmap."
      ],
      "metadata": {
        "id": "4jnhklmpLbrT"
      }
    },
    {
      "cell_type": "code",
      "source": [
        "import numpy as np\n",
        "import pandas as pd\n",
        "import seaborn as sns\n",
        "import matplotlib.pyplot as plt\n",
        "\n",
        "# Sample dataset\n",
        "data = {\n",
        "    'Math_Score': np.random.normal(70, 10, 100),\n",
        "    'Science_Score': np.random.normal(65, 12, 100),\n",
        "    'English_Score': np.random.normal(75, 8, 100)\n",
        "}\n",
        "\n",
        "df = pd.DataFrame(data)\n",
        "\n",
        "# Calculate covariance matrix\n",
        "cov_matrix = df.cov()\n",
        "\n",
        "# Plot heatmap\n",
        "plt.figure(figsize=(8, 6))\n",
        "sns.heatmap(cov_matrix, annot=True, cmap='YlGnBu', fmt=\".2f\", linewidths=0.5)\n",
        "plt.title('Covariance Heatmap')\n",
        "plt.tight_layout()\n",
        "plt.show()"
      ],
      "metadata": {
        "colab": {
          "base_uri": "https://localhost:8080/",
          "height": 607
        },
        "id": "s00m1O1QLhoo",
        "outputId": "b8ad5acb-86f3-4992-ba0e-4224a2bed082"
      },
      "execution_count": 25,
      "outputs": [
        {
          "output_type": "display_data",
          "data": {
            "text/plain": [
              "<Figure size 800x600 with 2 Axes>"
            ],
            "image/png": "[encoded data removed]"
          },
          "metadata": {}
        }
      ]
    },
    {
      "cell_type": "markdown",
      "source": [
        "21. Use seaborn to create a correlation matrix for a dataset."
      ],
      "metadata": {
        "id": "CiVVsHSfLrmM"
      }
    },
    {
      "cell_type": "code",
      "source": [
        "import pandas as pd\n",
        "import seaborn as sns\n",
        "import matplotlib.pyplot as plt\n",
        "\n",
        "# Sample dataset\n",
        "df = pd.DataFrame({\n",
        "    'Math_Score': [88, 92, 85, 95, 70],\n",
        "    'Science_Score': [90, 94, 88, 96, 75],\n",
        "    'English_Score': [78, 85, 82, 89, 70],\n",
        "    'History_Score': [72, 80, 78, 85, 65]\n",
        "})\n",
        "\n",
        "# Calculate correlation matrix\n",
        "corr_matrix = df.corr()\n",
        "\n",
        "# Plot heatmap\n",
        "plt.figure(figsize=(8, 6))\n",
        "sns.heatmap(corr_matrix, annot=True, cmap='coolwarm', center=0, linewidths=0.5)\n",
        "plt.title('Correlation Matrix')\n",
        "plt.tight_layout()\n",
        "plt.show()"
      ],
      "metadata": {
        "colab": {
          "base_uri": "https://localhost:8080/",
          "height": 607
        },
        "id": "gzjpdBMKLx6F",
        "outputId": "298b20a2-b457-4d3d-9ecc-018a93d57cc7"
      },
      "execution_count": 26,
      "outputs": [
        {
          "output_type": "display_data",
          "data": {
            "text/plain": [
              "<Figure size 800x600 with 2 Axes>"
            ],
            "image/png": "[encoded data removed]"
          },
          "metadata": {}
        }
      ]
    },
    {
      "cell_type": "markdown",
      "source": [
        "22. Generate a dataset and implement both variance and standard deviation computations."
      ],
      "metadata": {
        "id": "dPioiO9HL8Uk"
      }
    },
    {
      "cell_type": "code",
      "source": [
        "import numpy as np\n",
        "import pandas as pd\n",
        "\n",
        "# Generate a dataset of 50 random exam scores between 0 and 100\n",
        "np.random.seed(42)\n",
        "scores = np.random.randint(0, 101, size=50)\n",
        "\n",
        "# Convert to a DataFrame\n",
        "df = pd.DataFrame({'Score': scores})\n",
        "\n",
        "# Using pandas: sample variance and std deviation\n",
        "sample_variance = df['Score'].var()\n",
        "sample_std = df['Score'].std()\n",
        "\n",
        "# Using NumPy: population and sample stats\n",
        "population_variance = np.var(scores)        # denominator n\n",
        "population_std = np.std(scores)\n",
        "sample_variance_np = np.var(scores, ddof=1) # denominator (n-1)\n",
        "sample_std_np = np.std(scores, ddof=1)\n",
        "\n",
        "\n",
        "print(f\"Sample Variance (pandas): {sample_variance:.2f}\")\n",
        "print(f\"Sample Std Dev (pandas): {sample_std:.2f}\")\n",
        "print(f\"Sample Variance (NumPy): {sample_variance_np:.2f}\")\n",
        "print(f\"Population Variance (NumPy): {population_variance:.2f}\")\n",
        "print(f\"Sample Std Dev (NumPy): {sample_std_np:.2f}\")\n",
        "print(f\"Population Std Dev (NumPy): {population_std:.2f}\")"
      ],
      "metadata": {
        "colab": {
          "base_uri": "https://localhost:8080/"
        },
        "id": "1kGiad7GMBa_",
        "outputId": "6dfceb29-65f2-405b-df26-fad763a2f190"
      },
      "execution_count": 27,
      "outputs": [
        {
          "output_type": "stream",
          "name": "stdout",
          "text": [
            "Sample Variance (pandas): 835.83\n",
            "Sample Std Dev (pandas): 28.91\n",
            "Sample Variance (NumPy): 835.83\n",
            "Population Variance (NumPy): 819.11\n",
            "Sample Std Dev (NumPy): 28.91\n",
            "Population Std Dev (NumPy): 28.62\n"
          ]
        }
      ]
    },
    {
      "cell_type": "markdown",
      "source": [
        "23. Visualize skewness and kurtosis using Python libraries like matplotlib or seaborn."
      ],
      "metadata": {
        "id": "RcJVTSVWMNGp"
      }
    },
    {
      "cell_type": "code",
      "source": [
        "import numpy as np\n",
        "import pandas as pd\n",
        "import seaborn as sns\n",
        "import matplotlib.pyplot as plt\n",
        "from scipy.stats import skew, kurtosis\n",
        "\n",
        "# Simulate a slightly skewed distribution (e.g. exam scores)\n",
        "np.random.seed(42)\n",
        "data = np.random.normal(loc=70, scale=10, size=1000)\n",
        "data = np.append(data, [110, 115])  # Adding outliers to boost kurtosis\n",
        "\n",
        "# Create DataFrame\n",
        "df = pd.DataFrame({'Score': data})\n",
        "\n",
        "# Calculate skewness and kurtosis\n",
        "skewness = skew(df['Score'])\n",
        "kurt = kurtosis(df['Score'])  # Fisher’s definition (normal dist = 0)\n",
        "\n",
        "# Plot\n",
        "plt.figure(figsize=(8, 5))\n",
        "sns.histplot(df['Score'], bins=30, kde=True, color='cornflowerblue', edgecolor='black')\n",
        "\n",
        "\n",
        "plt.title(f\"Skewness: {skewness:.2f} | Kurtosis: {kurt:.2f}\", fontsize=14)\n",
        "plt.xlabel('Score')\n",
        "plt.ylabel('Frequency')\n",
        "plt.grid(True)\n",
        "plt.tight_layout()\n",
        "plt.show()"
      ],
      "metadata": {
        "colab": {
          "base_uri": "https://localhost:8080/",
          "height": 507
        },
        "id": "NUEe2GXfMUgN",
        "outputId": "392ed1a3-2595-481f-d97c-9648cdb2c9b0"
      },
      "execution_count": 28,
      "outputs": [
        {
          "output_type": "display_data",
          "data": {
            "text/plain": [
              "<Figure size 800x500 with 1 Axes>"
            ],
            "image/png": "[encoded data removed]"
          },
          "metadata": {}
        }
      ]
    },
    {
      "cell_type": "markdown",
      "source": [
        "24. Implement the Pearson and Spearman correlation coefficients for a dataset."
      ],
      "metadata": {
        "id": "fGxLwI-8Md6_"
      }
    },
    {
      "cell_type": "code",
      "source": [
        "import pandas as pd\n",
        "from scipy.stats import pearsonr, spearmanr\n",
        "\n",
        "\n",
        "df = pd.DataFrame({\n",
        "    'Study_Hours': [2, 4, 6, 8, 10, 12, 14],\n",
        "    'Exam_Score': [55, 58, 65, 70, 74, 78, 85]\n",
        "})\n",
        "\n",
        "\n",
        "pearson_corr, pearson_p = pearsonr(df['Study_Hours'], df['Exam_Score'])\n",
        "\n",
        "\n",
        "spearman_corr, spearman_p = spearmanr(df['Study_Hours'], df['Exam_Score'])\n",
        "\n",
        "print(f\"Pearson Correlation Coefficient: {pearson_corr:.2f} (p = {pearson_p:.4f})\")\n",
        "print(f\"Spearman Correlation Coefficient: {spearman_corr:.2f} (p = {spearman_p:.4f})\")"
      ],
      "metadata": {
        "colab": {
          "base_uri": "https://localhost:8080/"
        },
        "id": "u-qsbz8vMip7",
        "outputId": "0a6db00b-0144-463b-82cd-75a29688a71e"
      },
      "execution_count": 29,
      "outputs": [
        {
          "output_type": "stream",
          "name": "stdout",
          "text": [
            "Pearson Correlation Coefficient: 1.00 (p = 0.0000)\n",
            "Spearman Correlation Coefficient: 1.00 (p = 0.0000)\n"
          ]
        }
      ]
    }
  ]
}